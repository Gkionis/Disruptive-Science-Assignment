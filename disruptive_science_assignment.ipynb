{
 "cells": [
  {
   "cell_type": "markdown",
   "id": "2f04f76f",
   "metadata": {},
   "source": [
    "# Is Science Becoming Less Disruptive?\n",
    "\n",
    "A [recent paper in Nature](https://www.nature.com/articles/s41586-022-05543-x) created a stir in the scientific community, arguing that science is becoming less disruptive over time. According to the study, there are fewer groundbreaking papers in recent years. It appears that trailblazers are rare and that most research tends to build and expand existing research rather than opening up new paths of inquiry.\n",
    "\n",
    "Needless to say, the paper created quite a bit of head-scratching: if science is becoming less disruptive, what, or who, is to blame? Could it be that the low hanging fruits have already been picked? That modern science requires over-specialisation, which entails working within a field of study, rather than exploring new vistas? The discussion raged even in mainstream media like [The Economist](https://www.economist.com/science-and-technology/2023/01/04/papers-and-patents-are-becoming-less-disruptive), [The New York Times](https://www.nytimes.com/2023/01/17/science/science-breakthroughs-disruption.html), [The Atlantic](https://www.theatlantic.com/newsletters/archive/2023/01/academia-research-scientific-papers-progress/672694/); then Nature returned with an [editorial on what it means and whether it matters](https://www.nature.com/articles/d41586-023-00183-1).\n",
    "\n",
    "The debate will go on; in the meantime, you will use your skills to explore one of the aspects of the study.\n",
    "\n",
    "---\n",
    "\n",
    "> Panos Louridas, Associate Professor <br />\n",
    "> Department of Management Science and Technology <br />\n",
    "> Athens University of Economics and Business <br />\n",
    "> louridas@aueb.gr"
   ]
  },
  {
   "cell_type": "markdown",
   "id": "e4468779",
   "metadata": {},
   "source": [
    "## Question"
   ]
  },
  {
   "cell_type": "markdown",
   "id": "d1ccbea3",
   "metadata": {},
   "source": [
    "### Predicting CD5\n",
    "\n",
    "Disruption is measured by a metric, the [CD index](http://russellfunk.org/cdindex/), devised by the authors of the study. The CD is calculated over a time window, say five years (then it's called CD5), and it measures how likely is a work that cites a scientific paper to cite the works *that* paper cites. If follow-up work does not cite a paper's cited predecessors then it's likely that the paper has broken new ground.\n",
    "\n",
    "The CD index can be calculated for each paper, by finding the works that cite it and the works that the paper itself cites. You can find details in the Nature paper and also in [the original paper that introduced the metric](http://russellfunk.org/cdindex/static/papers/funk_ms_2017.pdf). But then an interesting question arises: is it possible to *predict* a paper's CD5 index by using only the paper itself, information on its authors, and information on its citations, without looking into the future work that cites it?\n",
    "\n",
    "Your task in this assignment, should you choose to accept it, is to create a Machine Learning model that can predict, as accurately as possible, the CD5 of a published paper.\n",
    "\n",
    "You must use *at least two* different Machine Learning approaches, one of them employing Neural Networks.\n",
    "\n",
    "The data that you will use is available [here](https://auebgr.sharepoint.com/:u:/s/AppliedMachineLearning2022/EWYKpAPnCBlItVY4Zyp1Wx4BOroJhlNWZALSpFRsgJEVxA?e=Y3P4Dy) (in MS-Teams, under Class Materials) in the form of an [SQLite](https://www.sqlite.org/) database. It is derived from the excellent [alexandria3k package](https://github.com/dspinellis/alexandria3k) written by [Professor Diomidis Spinellis](https://www2.dmst.aueb.gr/dds/). You can easily find the schema of the data with the standard SQLite facilities and you can also read the [documentation of alexandria3k](https://dspinellis.github.io/alexandria3k/). In particular, the data comprises part of the [publications graph](https://dspinellis.github.io/alexandria3k/cli-eg.html#publications-graph) for a 1% sample of all CrossRef available publications that have abstracts; an additional table in the database contains the CD5 index for papers.\n",
    "\n",
    "The existence of abstracts in the data is not accidental. As you can see in the Nature paper, the authors make a nod towards identifying text features that are related to how disruptive a paper is; you know enough, from the material we have covered, to try to leverage the abstracts for your task.\n",
    "\n",
    "The data provided is a minimum; if you wish to use more data, contact the course instructor."
   ]
  },
  {
   "cell_type": "markdown",
   "id": "b73fd231",
   "metadata": {},
   "source": [
    "## Submission Instructions\n",
    "\n",
    "You will submit a Jupyter notebook that will contain all your code, data, and analysis. Ensure that the notebook will run correctly in a computer that is not your own. That means, among other things, that it does not contain absolute paths. Remember that a notebook is not a collection of code cells thrown together; it should contain as much text as necessary for a person to understand what you are doing."
   ]
  },
  {
   "cell_type": "markdown",
   "id": "15ce37c4",
   "metadata": {},
   "source": [
    "## Honor Code\n",
    "\n",
    "You understand that this is an individual assignment, and as such you must carry it out alone. You may seek help on the Internet, by asking ChatGPT, Googling, or searching in StackOverflow for general questions pertaining to the use of Python,  libraries, and idioms. However, it is not right to ask direct questions that relate to the assignment and where people will actually solve your problem by answering them. You may discuss with your fellow students in order to better understand the questions, if they are not clear enough, but you should not ask them to share their answers with you, or to help you by giving specific advice."
   ]
  }
 ],
 "metadata": {
  "kernelspec": {
   "display_name": "Python 3 (ipykernel)",
   "language": "python",
   "name": "python3"
  },
  "language_info": {
   "codemirror_mode": {
    "name": "ipython",
    "version": 3
   },
   "file_extension": ".py",
   "mimetype": "text/x-python",
   "name": "python",
   "nbconvert_exporter": "python",
   "pygments_lexer": "ipython3",
   "version": "3.8.0"
  }
 },
 "nbformat": 4,
 "nbformat_minor": 5
}
