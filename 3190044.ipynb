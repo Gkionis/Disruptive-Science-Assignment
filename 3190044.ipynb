{
 "cells": [
  {
   "cell_type": "markdown",
   "id": "127a8d83",
   "metadata": {},
   "source": [
    "# 3190044 IOANNIS GKIONIS"
   ]
  },
  {
   "cell_type": "markdown",
   "id": "95977139",
   "metadata": {},
   "source": [
    "## Disruptive science assignment - Applied Machine Learning (2022-2023)"
   ]
  },
  {
   "cell_type": "markdown",
   "id": "f7af4366",
   "metadata": {},
   "source": [
    "### Preprocessing"
   ]
  },
  {
   "cell_type": "markdown",
   "id": "85929d8c",
   "metadata": {},
   "source": [
    "First off we import all the libraries we will be using in this assignment."
   ]
  },
  {
   "cell_type": "code",
   "execution_count": 1,
   "id": "49eab355",
   "metadata": {},
   "outputs": [],
   "source": [
    "import sqlite3\n",
    "import pandas as pd\n",
    "import datetime\n",
    "import re\n",
    "import numpy as np\n",
    "import statsmodels.formula.api as snf\n",
    "import matplotlib.pyplot as plt\n",
    "import tensorflow as tf\n",
    "import tensorflow_hub as hub\n",
    "import tensorflow_datasets as tfds\n",
    "from sklearn.model_selection import train_test_split\n",
    "from sklearn.preprocessing import StandardScaler\n",
    "from tensorflow.keras import Sequential\n",
    "from tensorflow.keras.layers import Dense, Input, Dropout"
   ]
  },
  {
   "cell_type": "markdown",
   "id": "e43d3dbe",
   "metadata": {},
   "source": [
    "After that, we connect to the database. Note that all the tables of the database have been altered with indices on all keys/primary keys, unique ones wherever possible. This slightly increases the disk size of the .db file but results in much faster query execution, which ends up being very useful in this particular assignment.\n",
    "\n",
    "The indices used are declared below and all SQL used here is in the indices.sql file on the same folder as this notebook\n",
    "\n",
    "- CREATE UNIQUE INDEX \"idx_cdindex\" ON cdindex.doi\n",
    "\n",
    "- CREATE UNIQUE INDEX \"idx_work_auth\" ON work_authors.id\n",
    "\n",
    "- CREATE INDEX \"idx_work_auth_workid\" ON work_authors.work_id\n",
    "\n",
    "- CREATE INDEX \"idx_work_ref\" ON work_references.work_id\n",
    "\n",
    "- CREATE INDEX \"idx_work_sub\" ON work_subjects.work_id\n",
    "\n",
    "- CREATE UNIQUE INDEX \"idx_works\" ON works.id\n",
    "\n",
    "- CREATE UNIQUE INDEX \"idx_works_doi\" ON works.doi\n",
    "\n",
    "By running the indices.sql file or running each line seperately through DB Browser we can generate these indices (note that the ones on works take a bit longer to execute than the rest)"
   ]
  },
  {
   "cell_type": "code",
   "execution_count": 2,
   "id": "7ce857be",
   "metadata": {},
   "outputs": [],
   "source": [
    "con = sqlite3.connect(\"publications_graph.db\")"
   ]
  },
  {
   "cell_type": "markdown",
   "id": "d2a589fa",
   "metadata": {},
   "source": [
    "We then run this SQL query that returns all useful columns from the database. The query is also included in the query.sql file and can be ran through software such as DB Browser\n",
    "\n",
    "Note: I noticed that adding and removing the month and day columns does not significantly affect the result of the models, so i decided to simplify the SQL query by removing those (i had to use stuff like julianday(\"now\") - julianday(work_references.year || '-01-01') to generate the mean and variance of the crossreferenced works' age) and only keeping the year column, which ended up making the models much faster without losing much valuable information"
   ]
  },
  {
   "cell_type": "code",
   "execution_count": 3,
   "id": "0335079f",
   "metadata": {},
   "outputs": [],
   "source": [
    "query = '''SELECT works.doi AS doi, works.abstract AS abstract, works.published_year AS year, works.title AS title,\n",
    "GROUP_CONCAT(work_subjects.name, '|') AS subjects,\n",
    "GROUP_CONCAT(work_references.doi, '|') AS crossrefs,\n",
    "\n",
    "AVG(2023 - work_references.year) AS crossref_mean_age,\n",
    "\n",
    "AVG((2023 - work_references.year) * ( 2023 - work_references.year)) - (AVG(2023 - work_references.year) *\n",
    "AVG(2023 - work_references.year)) AS crossref_var_age,\n",
    "\n",
    "cdindex.cdindex AS cdindex\n",
    "\n",
    "FROM works\n",
    "JOIN work_subjects ON works.id == work_subjects.work_id\n",
    "JOIN work_authors ON works.id == work_authors.work_id\n",
    "JOIN work_references ON works.id == work_references.work_id\n",
    "JOIN cdindex ON works.doi == cdindex.doi\n",
    "\n",
    "WHERE cdindex.cdindex IS NOT NULL AND works.published_year IS NOT NULL AND work_references.year IS NOT NULL GROUP BY works.doi'''\n",
    "\n",
    "worksdf = pd.read_sql_query(query, con)\n",
    "\n",
    "con.close()"
   ]
  },
  {
   "cell_type": "markdown",
   "id": "aee9bdfe",
   "metadata": {},
   "source": [
    "### Model 1: OLS"
   ]
  },
  {
   "cell_type": "markdown",
   "id": "5aacebf4",
   "metadata": {},
   "source": [
    "We then create the first model. I chose an ordinary least squares regression model from the statsmodels.formula.api library similar to the one we used in the previous assignment. We use the mean and variance of the age of each crossreference as well as the year the paper was released as the independent variables and the cdindex as the dependent one."
   ]
  },
  {
   "cell_type": "code",
   "execution_count": 4,
   "id": "c1954483",
   "metadata": {},
   "outputs": [
    {
     "data": {
      "text/html": [
       "<table class=\"simpletable\">\n",
       "<caption>OLS Regression Results</caption>\n",
       "<tr>\n",
       "  <th>Dep. Variable:</th>         <td>cdindex</td>     <th>  R-squared:         </th>  <td>   0.030</td> \n",
       "</tr>\n",
       "<tr>\n",
       "  <th>Model:</th>                   <td>OLS</td>       <th>  Adj. R-squared:    </th>  <td>   0.030</td> \n",
       "</tr>\n",
       "<tr>\n",
       "  <th>Method:</th>             <td>Least Squares</td>  <th>  F-statistic:       </th>  <td>   477.5</td> \n",
       "</tr>\n",
       "<tr>\n",
       "  <th>Date:</th>             <td>Tue, 28 Feb 2023</td> <th>  Prob (F-statistic):</th>  <td>1.33e-305</td>\n",
       "</tr>\n",
       "<tr>\n",
       "  <th>Time:</th>                 <td>18:51:35</td>     <th>  Log-Likelihood:    </th>  <td>  27293.</td> \n",
       "</tr>\n",
       "<tr>\n",
       "  <th>No. Observations:</th>      <td> 46159</td>      <th>  AIC:               </th> <td>-5.458e+04</td>\n",
       "</tr>\n",
       "<tr>\n",
       "  <th>Df Residuals:</th>          <td> 46155</td>      <th>  BIC:               </th> <td>-5.454e+04</td>\n",
       "</tr>\n",
       "<tr>\n",
       "  <th>Df Model:</th>              <td>     3</td>      <th>                     </th>      <td> </td>    \n",
       "</tr>\n",
       "<tr>\n",
       "  <th>Covariance Type:</th>      <td>nonrobust</td>    <th>                     </th>      <td> </td>    \n",
       "</tr>\n",
       "</table>\n",
       "<table class=\"simpletable\">\n",
       "<tr>\n",
       "          <td></td>             <th>coef</th>     <th>std err</th>      <th>t</th>      <th>P>|t|</th>  <th>[0.025</th>    <th>0.975]</th>  \n",
       "</tr>\n",
       "<tr>\n",
       "  <th>Intercept</th>         <td>    4.8703</td> <td>    0.128</td> <td>   37.974</td> <td> 0.000</td> <td>    4.619</td> <td>    5.122</td>\n",
       "</tr>\n",
       "<tr>\n",
       "  <th>crossref_mean_age</th> <td> 4.687e-08</td> <td> 7.53e-07</td> <td>    0.062</td> <td> 0.950</td> <td>-1.43e-06</td> <td> 1.52e-06</td>\n",
       "</tr>\n",
       "<tr>\n",
       "  <th>crossref_var_age</th>  <td> 2.495e-15</td> <td> 4.44e-14</td> <td>    0.056</td> <td> 0.955</td> <td>-8.46e-14</td> <td> 8.95e-14</td>\n",
       "</tr>\n",
       "<tr>\n",
       "  <th>year</th>              <td>   -0.0024</td> <td> 6.37e-05</td> <td>  -37.848</td> <td> 0.000</td> <td>   -0.003</td> <td>   -0.002</td>\n",
       "</tr>\n",
       "</table>\n",
       "<table class=\"simpletable\">\n",
       "<tr>\n",
       "  <th>Omnibus:</th>       <td>50058.422</td> <th>  Durbin-Watson:     </th>  <td>   1.684</td>  \n",
       "</tr>\n",
       "<tr>\n",
       "  <th>Prob(Omnibus):</th>  <td> 0.000</td>   <th>  Jarque-Bera (JB):  </th> <td>3488561.217</td>\n",
       "</tr>\n",
       "<tr>\n",
       "  <th>Skew:</th>           <td> 5.661</td>   <th>  Prob(JB):          </th>  <td>    0.00</td>  \n",
       "</tr>\n",
       "<tr>\n",
       "  <th>Kurtosis:</th>       <td>44.057</td>   <th>  Cond. No.          </th>  <td>5.77e+13</td>  \n",
       "</tr>\n",
       "</table><br/><br/>Notes:<br/>[1] Standard Errors assume that the covariance matrix of the errors is correctly specified.<br/>[2] The condition number is large, 5.77e+13. This might indicate that there are<br/>strong multicollinearity or other numerical problems."
      ],
      "text/plain": [
       "<class 'statsmodels.iolib.summary.Summary'>\n",
       "\"\"\"\n",
       "                            OLS Regression Results                            \n",
       "==============================================================================\n",
       "Dep. Variable:                cdindex   R-squared:                       0.030\n",
       "Model:                            OLS   Adj. R-squared:                  0.030\n",
       "Method:                 Least Squares   F-statistic:                     477.5\n",
       "Date:                Tue, 28 Feb 2023   Prob (F-statistic):          1.33e-305\n",
       "Time:                        18:51:35   Log-Likelihood:                 27293.\n",
       "No. Observations:               46159   AIC:                        -5.458e+04\n",
       "Df Residuals:                   46155   BIC:                        -5.454e+04\n",
       "Df Model:                           3                                         \n",
       "Covariance Type:            nonrobust                                         \n",
       "=====================================================================================\n",
       "                        coef    std err          t      P>|t|      [0.025      0.975]\n",
       "-------------------------------------------------------------------------------------\n",
       "Intercept             4.8703      0.128     37.974      0.000       4.619       5.122\n",
       "crossref_mean_age  4.687e-08   7.53e-07      0.062      0.950   -1.43e-06    1.52e-06\n",
       "crossref_var_age   2.495e-15   4.44e-14      0.056      0.955   -8.46e-14    8.95e-14\n",
       "year                 -0.0024   6.37e-05    -37.848      0.000      -0.003      -0.002\n",
       "==============================================================================\n",
       "Omnibus:                    50058.422   Durbin-Watson:                   1.684\n",
       "Prob(Omnibus):                  0.000   Jarque-Bera (JB):          3488561.217\n",
       "Skew:                           5.661   Prob(JB):                         0.00\n",
       "Kurtosis:                      44.057   Cond. No.                     5.77e+13\n",
       "==============================================================================\n",
       "\n",
       "Notes:\n",
       "[1] Standard Errors assume that the covariance matrix of the errors is correctly specified.\n",
       "[2] The condition number is large, 5.77e+13. This might indicate that there are\n",
       "strong multicollinearity or other numerical problems.\n",
       "\"\"\""
      ]
     },
     "execution_count": 4,
     "metadata": {},
     "output_type": "execute_result"
    }
   ],
   "source": [
    "columns = \"cdindex ~ crossref_mean_age + crossref_var_age + year\"\n",
    "model = snf.ols(columns, data = worksdf)\n",
    "res = model.fit()\n",
    "res.summary()"
   ]
  },
  {
   "cell_type": "markdown",
   "id": "fb987eb9",
   "metadata": {},
   "source": [
    "Note: before we even generate predictions we can clearly see the negative coefficient on the year column so we can tell that the cdindex decreases as the value of the year column increases, which affirms our assumption that papers recently have become less and less disruptive/innovative\n",
    "\n",
    "\n",
    "We then generate a dataframe of predictions from that model and group them by year (since we want to track how the cdindex changes with time)"
   ]
  },
  {
   "cell_type": "code",
   "execution_count": 5,
   "id": "740dc899",
   "metadata": {},
   "outputs": [],
   "source": [
    "predictions = res.get_prediction(worksdf)\n",
    "preddf = predictions.summary_frame(alpha=0.05) #95% C.I.\n",
    "preddf['year'] = worksdf.year\n",
    "preddf = preddf.groupby(by=\"year\").mean()"
   ]
  },
  {
   "cell_type": "markdown",
   "id": "0f870fce",
   "metadata": {},
   "source": [
    "And finally, we plot the results using matplotlib"
   ]
  },
  {
   "cell_type": "code",
   "execution_count": 6,
   "id": "483fc555",
   "metadata": {},
   "outputs": [
    {
     "data": {
      "text/plain": [
       "<matplotlib.collections.PolyCollection at 0x21b05c04970>"
      ]
     },
     "execution_count": 6,
     "metadata": {},
     "output_type": "execute_result"
    },
    {
     "data": {
      "image/png": "[encoded data removed]",
      "text/plain": [
       "<Figure size 432x288 with 1 Axes>"
      ]
     },
     "metadata": {
      "needs_background": "light"
     },
     "output_type": "display_data"
    }
   ],
   "source": [
    "ax = plt.axes()\n",
    "ax.plot(preddf.index, preddf['mean'])\n",
    "ax.fill_between(preddf.index, preddf['mean_ci_lower'], preddf['mean_ci_upper'], alpha=.1, color='grey')"
   ]
  },
  {
   "cell_type": "markdown",
   "id": "65eab53b",
   "metadata": {},
   "source": [
    "We can clearly see a line with a downward slope indicating that the cdindex of recent papers has been consistently decreasing. What is interesting is that on top of that, the high and low values of the 95% confidence interval are much closer to the mean value as years go by, meaning there's less variance in the value of cdindex in more recent papers compared to older ones"
   ]
  },
  {
   "cell_type": "markdown",
   "id": "499d3644",
   "metadata": {},
   "source": [
    "### Model 2: Neural Network"
   ]
  },
  {
   "cell_type": "markdown",
   "id": "889e3c36",
   "metadata": {},
   "source": [
    "First off we copy the dataframe we used in the last model, pop the cdindex column in order to make a y vector and drop a few columns we will not be using"
   ]
  },
  {
   "cell_type": "code",
   "execution_count": 7,
   "id": "78e49a7c",
   "metadata": {},
   "outputs": [],
   "source": [
    "X = worksdf.copy()\n",
    "X = X.drop(columns = ['crossrefs', 'doi', 'subjects'])\n",
    "y = X.pop('cdindex')\n",
    "y = y.to_numpy()"
   ]
  },
  {
   "cell_type": "markdown",
   "id": "08005252",
   "metadata": {},
   "source": [
    "Then we define a function that takes a string and converts it to lowercase, removes punctuation, empty spaces, special characters and removes a few words that appear in the abstract almost always and apply that function to every string dtype column of the X dataframe"
   ]
  },
  {
   "cell_type": "code",
   "execution_count": 8,
   "id": "75b7f01b",
   "metadata": {},
   "outputs": [],
   "source": [
    "def standardize_text(x):\n",
    "    redundantwords = ['jats', 'title', 'abstract', '\\n']\n",
    "    lower = x.lower()\n",
    "    no_num = re.sub(r'\\d+','',lower)\n",
    "    no_punc = re.sub(r'[^\\w\\s]','', no_num)\n",
    "    no_wspace = no_punc.strip()\n",
    "    for word in redundantwords:\n",
    "        no_wspace = no_wspace.replace(word, '');\n",
    "    return no_wspace\n",
    "\n",
    "X['abstract'] = X['abstract'].apply(lambda x: standardize_text(x))\n",
    "X['title'] = X['title'].apply(lambda x: standardize_text(x))\n",
    "# X['subjects'] = X['subjects'].apply(lambda x: standardize_text(x))"
   ]
  },
  {
   "cell_type": "markdown",
   "id": "bbb077fe",
   "metadata": {},
   "source": [
    "We then use sklearn's train_test_split function to generate train and test data, then standardize all the numerical values of both the train and test set, and finally create seperate dataframes with all the numerical value columns"
   ]
  },
  {
   "cell_type": "code",
   "execution_count": 9,
   "id": "2fb5c4f0",
   "metadata": {},
   "outputs": [],
   "source": [
    "X_train, X_test, y_train, y_test = train_test_split(X, y, test_size = 0.2)\n",
    "\n",
    "sc = StandardScaler()\n",
    "X_train[['year', 'crossref_mean_age', 'crossref_var_age']] = sc.fit_transform(X_train[['year', 'crossref_mean_age', 'crossref_var_age']])\n",
    "X_test[['year', 'crossref_mean_age', 'crossref_var_age']] = sc.fit_transform(X_test[['year', 'crossref_mean_age', 'crossref_var_age']])\n",
    "\n",
    "X_train_num = X_train[['year', 'crossref_mean_age', 'crossref_var_age']]\n",
    "X_test_num = X_test[['year', 'crossref_mean_age', 'crossref_var_age']]"
   ]
  },
  {
   "cell_type": "markdown",
   "id": "c4db809d",
   "metadata": {},
   "source": [
    "We create an embedding layer using a pretrained model for text embeddings and then create the 3 models we will be using. We implement early stopping at 7 epochs of no improvement in validation loss.\n",
    "\n",
    "The first model takes the 3 numerical columns and runs them through a relatively small neural network of 2 hidden layers with 25% dropout between the first and second hidden layer.\n",
    "\n",
    "The second and third model take the abstract and title of the papers respectively and run them through a bigger network with more hidden layers and more neurons in said layers (the one for abstracts is bigger than the one for titles because the length of abstracts is way bigger than that of titles)"
   ]
  },
  {
   "cell_type": "code",
   "execution_count": 10,
   "id": "eab46b17",
   "metadata": {},
   "outputs": [
    {
     "name": "stdout",
     "output_type": "stream",
     "text": [
      "WARNING:tensorflow:Please fix your imports. Module tensorflow.python.training.tracking.data_structures has been moved to tensorflow.python.trackable.data_structures. The old module will be deleted in version 2.11.\n",
      "WARNING:tensorflow:From c:\\users\\kharnifex\\appdata\\local\\programs\\python\\python38\\lib\\site-packages\\tensorflow\\python\\autograph\\pyct\\static_analysis\\liveness.py:83: Analyzer.lamba_check (from tensorflow.python.autograph.pyct.static_analysis.liveness) is deprecated and will be removed after 2023-09-23.\n",
      "Instructions for updating:\n",
      "Lambda fuctions will be no more assumed to be used in the statement where they are used, or at least in the same block. https://github.com/tensorflow/tensorflow/issues/56089\n"
     ]
    },
    {
     "name": "stderr",
     "output_type": "stream",
     "text": [
      "WARNING:tensorflow:From c:\\users\\kharnifex\\appdata\\local\\programs\\python\\python38\\lib\\site-packages\\tensorflow\\python\\autograph\\pyct\\static_analysis\\liveness.py:83: Analyzer.lamba_check (from tensorflow.python.autograph.pyct.static_analysis.liveness) is deprecated and will be removed after 2023-09-23.\n",
      "Instructions for updating:\n",
      "Lambda fuctions will be no more assumed to be used in the statement where they are used, or at least in the same block. https://github.com/tensorflow/tensorflow/issues/56089\n"
     ]
    }
   ],
   "source": [
    "EMBEDDING_URL = \"https://tfhub.dev/google/nnlm-en-dim50/2\"\n",
    "embedding_layer = hub.KerasLayer(EMBEDDING_URL, input_shape=[], dtype=tf.string, trainable=False)\n",
    "callback = tf.keras.callbacks.EarlyStopping(monitor='val_loss', patience=7, restore_best_weights=True)\n",
    "\n",
    "model1 = Sequential([\n",
    "          Input(shape=3),\n",
    "          Dense(units=128, activation=\"relu\"),\n",
    "          Dropout(0.25),\n",
    "          Dense(units=64, activation=\"relu\"),\n",
    "          Dense(units=1, activation=\"linear\"),\n",
    "      ])\n",
    "\n",
    "model2 = Sequential([\n",
    "          embedding_layer,\n",
    "          Dense(units=512, activation=\"relu\"),\n",
    "          Dropout(0.25),\n",
    "          Dense(units=1024, activation=\"relu\"),\n",
    "          Dropout(0.35),\n",
    "          Dense(units=512, activation=\"relu\"),\n",
    "          Dropout(0.25),\n",
    "          Dense(units=256, activation=\"relu\"),\n",
    "          Dense(units=1, activation=\"linear\"),\n",
    "      ])\n",
    "\n",
    "model3 = Sequential([\n",
    "          embedding_layer,\n",
    "          Dense(units=128, activation=\"relu\"),\n",
    "          Dropout(0.25),\n",
    "          Dense(units=256, activation=\"relu\"),\n",
    "          Dropout(0.35),\n",
    "          Dense(units=128, activation=\"relu\"),\n",
    "          Dropout(0.25),\n",
    "          Dense(units=64, activation=\"relu\"),\n",
    "          Dense(units=1, activation=\"linear\"),\n",
    "      ])"
   ]
  },
  {
   "cell_type": "markdown",
   "id": "86cadc60",
   "metadata": {},
   "source": [
    "We then compile and fit the models on the training dataset using 10% of it as the validation set"
   ]
  },
  {
   "cell_type": "code",
   "execution_count": 11,
   "id": "4156202f",
   "metadata": {},
   "outputs": [],
   "source": [
    "model1.compile(optimizer=\"adam\", loss=tf.keras.losses.MeanSquaredError())\n",
    "history1 = model1.fit(x=X_train_num, y=y_train, batch_size=256, epochs=30, callbacks=[callback], validation_split=0.1, verbose=0)\n",
    "\n",
    "model2.compile(optimizer=\"adam\", loss=tf.keras.losses.MeanSquaredError())\n",
    "history2 = model2.fit(x=X_train['abstract'], y=y_train, batch_size=256, epochs=30, callbacks=[callback], validation_split=0.1, verbose=0)\n",
    "\n",
    "model3.compile(optimizer=\"adam\", loss=tf.keras.losses.MeanSquaredError())\n",
    "history3 = model3.fit(x=X_train['title'], y=y_train, batch_size=256, epochs=30, callbacks=[callback], validation_split=0.1, verbose=0)"
   ]
  },
  {
   "cell_type": "markdown",
   "id": "4a9589d4",
   "metadata": {},
   "source": [
    "Finally we define a simple function that plots the training loss and validation loss of the 3 models and run it once for each one and then evaluate the 3 models by calculating the test loss"
   ]
  },
  {
   "cell_type": "code",
   "execution_count": 12,
   "id": "bdf5b114",
   "metadata": {},
   "outputs": [
    {
     "data": {
      "image/png": "[encoded data removed]",
      "text/plain": [
       "<Figure size 1152x360 with 1 Axes>"
      ]
     },
     "metadata": {
      "needs_background": "light"
     },
     "output_type": "display_data"
    },
    {
     "data": {
      "image/png": "[encoded data removed]",
      "text/plain": [
       "<Figure size 1152x360 with 1 Axes>"
      ]
     },
     "metadata": {
      "needs_background": "light"
     },
     "output_type": "display_data"
    },
    {
     "data": {
      "image/png": "[encoded data removed]",
      "text/plain": [
       "<Figure size 1152x360 with 1 Axes>"
      ]
     },
     "metadata": {
      "needs_background": "light"
     },
     "output_type": "display_data"
    }
   ],
   "source": [
    "def history_plotter(history):\n",
    "    plt.figure(figsize=(16, 5))\n",
    "    plt.plot(history.history['loss'], label='loss')\n",
    "    plt.plot(history.history['val_loss'], label = 'val_loss')\n",
    "    plt.xlabel('Epoch')\n",
    "    plt.ylabel('loss')\n",
    "    plt.legend(loc='lower right')\n",
    "\n",
    "history_plotter(history1)\n",
    "history_plotter(history2)\n",
    "history_plotter(history3)"
   ]
  },
  {
   "cell_type": "code",
   "execution_count": 13,
   "id": "b6598281",
   "metadata": {},
   "outputs": [
    {
     "name": "stdout",
     "output_type": "stream",
     "text": [
      "9232/9232 [==============================] - 9s 954us/step - loss: 0.0248\n",
      "9232/9232 [==============================] - 15s 2ms/step - loss: 0.0194\n",
      "9232/9232 [==============================] - 10s 1ms/step - loss: 0.0189\n"
     ]
    },
    {
     "data": {
      "text/plain": [
       "0.01887030526995659"
      ]
     },
     "execution_count": 13,
     "metadata": {},
     "output_type": "execute_result"
    }
   ],
   "source": [
    "model1.evaluate(x=X_test_num, y=y_test, batch_size=1, verbose=1)\n",
    "model2.evaluate(x=X_test['abstract'], y=y_test, batch_size=1, verbose=1)\n",
    "model3.evaluate(x=X_test['title'], y=y_test, batch_size=1, verbose=1)"
   ]
  },
  {
   "cell_type": "markdown",
   "id": "dd087b66",
   "metadata": {},
   "source": [
    "We can see that by running the notebook over and over again, the only model that actually seems to train and have its loss value lessen as epochs go by is the second one, and even then not so consistently, leading us to assume that the words used in the abstract have some sort of correlation with how well the paper ranks on the cdindex metric.\n",
    "\n",
    "Playing around with hyperparameters such as learning rate, optimizer, batch size, epochs, early stopping patience, # of layers, # of neurons per layer, dropout %, hidden layer activation functions etc. does not seem to change this by much.\n",
    "\n",
    "By applying further NLP methods (better string manipulation, Word2Vec etc) or by experimenting with RNNs/LSTM etc. we might see some improvement to the second model and may actually see relevant results"
   ]
  }
 ],
 "metadata": {
  "kernelspec": {
   "display_name": "Python 3 (ipykernel)",
   "language": "python",
   "name": "python3"
  },
  "language_info": {
   "codemirror_mode": {
    "name": "ipython",
    "version": 3
   },
   "file_extension": ".py",
   "mimetype": "text/x-python",
   "name": "python",
   "nbconvert_exporter": "python",
   "pygments_lexer": "ipython3",
   "version": "3.8.0"
  }
 },
 "nbformat": 4,
 "nbformat_minor": 5
}
